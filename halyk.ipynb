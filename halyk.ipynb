{
  "nbformat": 4,
  "nbformat_minor": 0,
  "metadata": {
    "colab": {
      "provenance": [],
      "authorship_tag": "ABX9TyOa7OIZrkM/vdyY0K2PffiO",
      "include_colab_link": true
    },
    "kernelspec": {
      "name": "python3",
      "display_name": "Python 3"
    },
    "language_info": {
      "name": "python"
    }
  },
  "cells": [
    {
      "cell_type": "markdown",
      "metadata": {
        "id": "view-in-github",
        "colab_type": "text"
      },
      "source": [
        "<a href=\"https://colab.research.google.com/github/igvog/hadoop_learning/blob/main/halyk.ipynb\" target=\"_parent\"><img src=\"https://colab.research.google.com/assets/colab-badge.svg\" alt=\"Open In Colab\"/></a>"
      ]
    },
    {
      "cell_type": "code",
      "execution_count": 20,
      "metadata": {
        "id": "y1BXv4EDHLcE"
      },
      "outputs": [],
      "source": [
        "import psycopg2 as pg\n",
        "from sshtunnel import SSHTunnelForwarder\n",
        "import pandas as pd\n",
        "import mysql.connector\n",
        "from mysql.connector import Error\n",
        "from sqlalchemy import create_engine\n",
        "import logging\n",
        "import time\n",
        "import warnings"
      ]
    },
    {
      "cell_type": "code",
      "source": [
        "pip install -r requirements.txt"
      ],
      "metadata": {
        "colab": {
          "base_uri": "https://localhost:8080/"
        },
        "id": "kgX-3nPvwgUi",
        "outputId": "595894bb-6ef9-491c-f5ee-9cf5642b7fdf"
      },
      "execution_count": 19,
      "outputs": [
        {
          "output_type": "stream",
          "name": "stdout",
          "text": [
            "Looking in indexes: https://pypi.org/simple, https://us-python.pkg.dev/colab-wheels/public/simple/\n",
            "Requirement already satisfied: pymysql in /usr/local/lib/python3.8/dist-packages (from -r requirements.txt (line 1)) (1.0.2)\n",
            "Requirement already satisfied: mysql-connector-python in /usr/local/lib/python3.8/dist-packages (from -r requirements.txt (line 2)) (8.0.32)\n",
            "Requirement already satisfied: sqlalchemy in /usr/local/lib/python3.8/dist-packages (from -r requirements.txt (line 3)) (1.4.46)\n",
            "Requirement already satisfied: pandas in /usr/local/lib/python3.8/dist-packages (from -r requirements.txt (line 4)) (1.3.5)\n",
            "Requirement already satisfied: sshtunnel in /usr/local/lib/python3.8/dist-packages (from -r requirements.txt (line 5)) (0.4.0)\n",
            "Requirement already satisfied: protobuf<=3.20.3,>=3.11.0 in /usr/local/lib/python3.8/dist-packages (from mysql-connector-python->-r requirements.txt (line 2)) (3.19.6)\n",
            "Requirement already satisfied: greenlet!=0.4.17 in /usr/local/lib/python3.8/dist-packages (from sqlalchemy->-r requirements.txt (line 3)) (2.0.1)\n",
            "Requirement already satisfied: numpy>=1.17.3 in /usr/local/lib/python3.8/dist-packages (from pandas->-r requirements.txt (line 4)) (1.21.6)\n",
            "Requirement already satisfied: python-dateutil>=2.7.3 in /usr/local/lib/python3.8/dist-packages (from pandas->-r requirements.txt (line 4)) (2.8.2)\n",
            "Requirement already satisfied: pytz>=2017.3 in /usr/local/lib/python3.8/dist-packages (from pandas->-r requirements.txt (line 4)) (2022.7)\n",
            "Requirement already satisfied: paramiko>=2.7.2 in /usr/local/lib/python3.8/dist-packages (from sshtunnel->-r requirements.txt (line 5)) (2.12.0)\n",
            "Requirement already satisfied: cryptography>=2.5 in /usr/local/lib/python3.8/dist-packages (from paramiko>=2.7.2->sshtunnel->-r requirements.txt (line 5)) (39.0.0)\n",
            "Requirement already satisfied: bcrypt>=3.1.3 in /usr/local/lib/python3.8/dist-packages (from paramiko>=2.7.2->sshtunnel->-r requirements.txt (line 5)) (4.0.1)\n",
            "Requirement already satisfied: pynacl>=1.0.1 in /usr/local/lib/python3.8/dist-packages (from paramiko>=2.7.2->sshtunnel->-r requirements.txt (line 5)) (1.5.0)\n",
            "Requirement already satisfied: six in /usr/local/lib/python3.8/dist-packages (from paramiko>=2.7.2->sshtunnel->-r requirements.txt (line 5)) (1.15.0)\n",
            "Requirement already satisfied: cffi>=1.12 in /usr/local/lib/python3.8/dist-packages (from cryptography>=2.5->paramiko>=2.7.2->sshtunnel->-r requirements.txt (line 5)) (1.15.1)\n",
            "Requirement already satisfied: pycparser in /usr/local/lib/python3.8/dist-packages (from cffi>=1.12->cryptography>=2.5->paramiko>=2.7.2->sshtunnel->-r requirements.txt (line 5)) (2.21)\n"
          ]
        }
      ]
    },
    {
      "cell_type": "markdown",
      "source": [],
      "metadata": {
        "id": "o60U8Hx1wXux"
      }
    },
    {
      "cell_type": "code",
      "source": [
        "logging.basicConfig(filename=time.strftime(\"%Y%m%d%H%M%S\")+'.log',\n",
        "                    filemode='a',\n",
        "                    format='%(asctime)s %(name)s %(levelname)s %(message)s',\n",
        "                    datefmt='%H:%M:%S',\n",
        "                    level=logging.DEBUG)\n",
        "\n",
        "warnings.filterwarnings('ignore')\n",
        "\n",
        "logging.info(\"Migration starting\")"
      ],
      "metadata": {
        "id": "T6UWjjYmIeC3"
      },
      "execution_count": 21,
      "outputs": []
    },
    {
      "cell_type": "code",
      "source": [
        "def my_sql_con():\n",
        "    try:\n",
        "        conn = mysql.connector.connect(host='halyk-sk.nidge.kz',\n",
        "                                database='halyk',\n",
        "                                user='export',\n",
        "                                password='picass07')\n",
        "        if conn.is_connected():\n",
        "            logging.info(\"You're connected to MySQL\")\n",
        "            return conn\n",
        "    except Error as e:\n",
        "        logging.info(f\"Print your error msg {e}\")\n",
        "\n",
        "\n",
        "def my_sql_con_ssh():\n",
        "    try:\n",
        "        logging.info('Connecting to the PostgreSQL Database...')\n",
        "        ssh_tunnel = SSHTunnelForwarder(\n",
        "                ('185.102.75.55'),\n",
        "                ssh_username=\"localadmin\",\n",
        "                ssh_password= 'QAZqaz!@#123',\n",
        "                remote_bind_address=('192.168.0.124', 3306)\n",
        "            )\n",
        "        ssh_tunnel.start()  \n",
        "        engine = create_engine('mysql+pymysql://{user}:{password}@{host}:{port}/{db}'.format(\n",
        "                 host='127.0.0.1',\n",
        "                 port=ssh_tunnel.local_bind_port,\n",
        "                 user='larauser',\n",
        "                 password='AqrbdgCZq8e29mzS',\n",
        "                 db='laradb'\n",
        "                ))\n",
        "        return engine\n",
        "    except Error as e:\n",
        "        logging.info(f\"Connection Has Failed... {e}\")\n",
        "\n",
        "\n",
        "def pq_sql_con():\n",
        "    try:\n",
        "        logging.info('Connecting to the PostgreSQL Database...')\n",
        "        ssh_tunnel = SSHTunnelForwarder(\n",
        "                ('31.31.218.102'),\n",
        "                ssh_username=\"devterminal\",\n",
        "                ssh_password= 'DevTerminal!@#$1234',\n",
        "                remote_bind_address=('10.186.29.36', 5000)\n",
        "            )\n",
        "        ssh_tunnel.start()  \n",
        "        #conn = pg.connect(\n",
        "        #        host='127.0.0.1',\n",
        "        #        port=ssh_tunnel.local_bind_port,\n",
        "        #        user='devops',\n",
        "        #        password= 'jgdnyie0J7ff',\n",
        "        #        database='backend'\n",
        "        #    )\n",
        "        # DEV \n",
        "        # user='devops',\n",
        "        # password='jgdnyie0J7ff',\n",
        "        # remote_bind_address=('10.186.29.32', 5432)\n",
        "        # PROD\n",
        "        # backendprod\n",
        "        # jgn0Kg*htyJ-0ghYV\n",
        "        # remote_bind_address=('10.186.29.36', 5000)\n",
        "        engine = create_engine('postgresql://{user}:{password}@{host}:{port}/{db}'.format(\n",
        "                 host='127.0.0.1',\n",
        "                 port=ssh_tunnel.local_bind_port,\n",
        "                 user='backendprod',\n",
        "                 password='jgn0Kg*htyJ-0ghYV',\n",
        "                 db='backend'\n",
        "                ))\n",
        "        return engine\n",
        "    except Error as e:\n",
        "        logging.info(f\"Connection Has Failed... {e}\")\n",
        "\n",
        "\n",
        "def check_pg_count(table_name: str) -> int:\n",
        "    truncate_sql = f\"select count(*) from {table_name}\"\n",
        "    result_dataFrame = pd.read_sql(truncate_sql, pq_con)\n",
        "    return result_dataFrame.to_dict()['count'][0]\n"
      ],
      "metadata": {
        "id": "XrMPlk1rJmWi"
      },
      "execution_count": 22,
      "outputs": []
    },
    {
      "cell_type": "code",
      "source": [
        "mysql_con = my_sql_con_ssh()\n",
        "pq_con = pq_sql_con()"
      ],
      "metadata": {
        "id": "VeCCcvO0JqP9"
      },
      "execution_count": 23,
      "outputs": []
    },
    {
      "cell_type": "code",
      "source": [
        "pk_tables_query = \"\"\"SELECT \"insurance_types\" AS REFERENCED_TABLE_NAME\n",
        "UNION\n",
        "SELECT REFERENCED_TABLE_NAME\n",
        "       FROM INFORMATION_SCHEMA.KEY_COLUMN_USAGE\n",
        "       WHERE REFERENCED_TABLE_SCHEMA IS NOT NULL;\"\"\"\n",
        "pk_tbl_dataframe = pd.read_sql(pk_tables_query, mysql_con)\n",
        "\n",
        "all_tables_query = \"SELECT TABLE_NAME FROM information_schema.tables WHERE TABLE_SCHEMA = 'laradb' order by TABLE_NAME;\"\n",
        "all_tbl_dataframe = pd.read_sql(all_tables_query, mysql_con)\n",
        "\n",
        "skip_tables = [\"policy_drafts\", \"personal_access_tokens\"]\n",
        "# policy_drafts uuid, ip_regions inet,\n",
        "logging.info(f\"Starting REFERENCED_TABLE_NAME\")"
      ],
      "metadata": {
        "id": "xLNq-MNXJum2"
      },
      "execution_count": 24,
      "outputs": []
    },
    {
      "cell_type": "code",
      "source": [
        "all_tbl_dataframe"
      ],
      "metadata": {
        "colab": {
          "base_uri": "https://localhost:8080/",
          "height": 424
        },
        "id": "sPKRu0AMtAqD",
        "outputId": "b307cf5d-fe14-4018-b37a-081574cdac1c"
      },
      "execution_count": 25,
      "outputs": [
        {
          "output_type": "execute_result",
          "data": {
            "text/plain": [
              "               TABLE_NAME\n",
              "0             activations\n",
              "1       admin_activations\n",
              "2   admin_password_resets\n",
              "3             admin_users\n",
              "4         banners_regions\n",
              "..                    ...\n",
              "57        travel_programs\n",
              "58                  users\n",
              "59            web_sliders\n",
              "60         whatsapp_texts\n",
              "61          wysiwyg_media\n",
              "\n",
              "[62 rows x 1 columns]"
            ],
            "text/html": [
              "\n",
              "  <div id=\"df-bb583a75-f53b-4f0c-9f0b-dccc0e9566ff\">\n",
              "    <div class=\"colab-df-container\">\n",
              "      <div>\n",
              "<style scoped>\n",
              "    .dataframe tbody tr th:only-of-type {\n",
              "        vertical-align: middle;\n",
              "    }\n",
              "\n",
              "    .dataframe tbody tr th {\n",
              "        vertical-align: top;\n",
              "    }\n",
              "\n",
              "    .dataframe thead th {\n",
              "        text-align: right;\n",
              "    }\n",
              "</style>\n",
              "<table border=\"1\" class=\"dataframe\">\n",
              "  <thead>\n",
              "    <tr style=\"text-align: right;\">\n",
              "      <th></th>\n",
              "      <th>TABLE_NAME</th>\n",
              "    </tr>\n",
              "  </thead>\n",
              "  <tbody>\n",
              "    <tr>\n",
              "      <th>0</th>\n",
              "      <td>activations</td>\n",
              "    </tr>\n",
              "    <tr>\n",
              "      <th>1</th>\n",
              "      <td>admin_activations</td>\n",
              "    </tr>\n",
              "    <tr>\n",
              "      <th>2</th>\n",
              "      <td>admin_password_resets</td>\n",
              "    </tr>\n",
              "    <tr>\n",
              "      <th>3</th>\n",
              "      <td>admin_users</td>\n",
              "    </tr>\n",
              "    <tr>\n",
              "      <th>4</th>\n",
              "      <td>banners_regions</td>\n",
              "    </tr>\n",
              "    <tr>\n",
              "      <th>...</th>\n",
              "      <td>...</td>\n",
              "    </tr>\n",
              "    <tr>\n",
              "      <th>57</th>\n",
              "      <td>travel_programs</td>\n",
              "    </tr>\n",
              "    <tr>\n",
              "      <th>58</th>\n",
              "      <td>users</td>\n",
              "    </tr>\n",
              "    <tr>\n",
              "      <th>59</th>\n",
              "      <td>web_sliders</td>\n",
              "    </tr>\n",
              "    <tr>\n",
              "      <th>60</th>\n",
              "      <td>whatsapp_texts</td>\n",
              "    </tr>\n",
              "    <tr>\n",
              "      <th>61</th>\n",
              "      <td>wysiwyg_media</td>\n",
              "    </tr>\n",
              "  </tbody>\n",
              "</table>\n",
              "<p>62 rows × 1 columns</p>\n",
              "</div>\n",
              "      <button class=\"colab-df-convert\" onclick=\"convertToInteractive('df-bb583a75-f53b-4f0c-9f0b-dccc0e9566ff')\"\n",
              "              title=\"Convert this dataframe to an interactive table.\"\n",
              "              style=\"display:none;\">\n",
              "        \n",
              "  <svg xmlns=\"http://www.w3.org/2000/svg\" height=\"24px\"viewBox=\"0 0 24 24\"\n",
              "       width=\"24px\">\n",
              "    <path d=\"M0 0h24v24H0V0z\" fill=\"none\"/>\n",
              "    <path d=\"M18.56 5.44l.94 2.06.94-2.06 2.06-.94-2.06-.94-.94-2.06-.94 2.06-2.06.94zm-11 1L8.5 8.5l.94-2.06 2.06-.94-2.06-.94L8.5 2.5l-.94 2.06-2.06.94zm10 10l.94 2.06.94-2.06 2.06-.94-2.06-.94-.94-2.06-.94 2.06-2.06.94z\"/><path d=\"M17.41 7.96l-1.37-1.37c-.4-.4-.92-.59-1.43-.59-.52 0-1.04.2-1.43.59L10.3 9.45l-7.72 7.72c-.78.78-.78 2.05 0 2.83L4 21.41c.39.39.9.59 1.41.59.51 0 1.02-.2 1.41-.59l7.78-7.78 2.81-2.81c.8-.78.8-2.07 0-2.86zM5.41 20L4 18.59l7.72-7.72 1.47 1.35L5.41 20z\"/>\n",
              "  </svg>\n",
              "      </button>\n",
              "      \n",
              "  <style>\n",
              "    .colab-df-container {\n",
              "      display:flex;\n",
              "      flex-wrap:wrap;\n",
              "      gap: 12px;\n",
              "    }\n",
              "\n",
              "    .colab-df-convert {\n",
              "      background-color: #E8F0FE;\n",
              "      border: none;\n",
              "      border-radius: 50%;\n",
              "      cursor: pointer;\n",
              "      display: none;\n",
              "      fill: #1967D2;\n",
              "      height: 32px;\n",
              "      padding: 0 0 0 0;\n",
              "      width: 32px;\n",
              "    }\n",
              "\n",
              "    .colab-df-convert:hover {\n",
              "      background-color: #E2EBFA;\n",
              "      box-shadow: 0px 1px 2px rgba(60, 64, 67, 0.3), 0px 1px 3px 1px rgba(60, 64, 67, 0.15);\n",
              "      fill: #174EA6;\n",
              "    }\n",
              "\n",
              "    [theme=dark] .colab-df-convert {\n",
              "      background-color: #3B4455;\n",
              "      fill: #D2E3FC;\n",
              "    }\n",
              "\n",
              "    [theme=dark] .colab-df-convert:hover {\n",
              "      background-color: #434B5C;\n",
              "      box-shadow: 0px 1px 3px 1px rgba(0, 0, 0, 0.15);\n",
              "      filter: drop-shadow(0px 1px 2px rgba(0, 0, 0, 0.3));\n",
              "      fill: #FFFFFF;\n",
              "    }\n",
              "  </style>\n",
              "\n",
              "      <script>\n",
              "        const buttonEl =\n",
              "          document.querySelector('#df-bb583a75-f53b-4f0c-9f0b-dccc0e9566ff button.colab-df-convert');\n",
              "        buttonEl.style.display =\n",
              "          google.colab.kernel.accessAllowed ? 'block' : 'none';\n",
              "\n",
              "        async function convertToInteractive(key) {\n",
              "          const element = document.querySelector('#df-bb583a75-f53b-4f0c-9f0b-dccc0e9566ff');\n",
              "          const dataTable =\n",
              "            await google.colab.kernel.invokeFunction('convertToInteractive',\n",
              "                                                     [key], {});\n",
              "          if (!dataTable) return;\n",
              "\n",
              "          const docLinkHtml = 'Like what you see? Visit the ' +\n",
              "            '<a target=\"_blank\" href=https://colab.research.google.com/notebooks/data_table.ipynb>data table notebook</a>'\n",
              "            + ' to learn more about interactive tables.';\n",
              "          element.innerHTML = '';\n",
              "          dataTable['output_type'] = 'display_data';\n",
              "          await google.colab.output.renderOutput(dataTable, element);\n",
              "          const docLink = document.createElement('div');\n",
              "          docLink.innerHTML = docLinkHtml;\n",
              "          element.appendChild(docLink);\n",
              "        }\n",
              "      </script>\n",
              "    </div>\n",
              "  </div>\n",
              "  "
            ]
          },
          "metadata": {},
          "execution_count": 25
        }
      ]
    },
    {
      "cell_type": "code",
      "source": [
        "df = pd.read_sql(\"SELECT * FROM users where id = '1435773'\", mysql_con)\n",
        "print(\"users\")\n",
        "df.to_sql(con=pq_con, name=\"users\", schema=\"public\", if_exists='append',index=False)\n",
        "print(f\"That table is uploaded users tables count={len(df.index)}\")\n"
      ],
      "metadata": {
        "id": "9HxbZlH7Ni1C",
        "colab": {
          "base_uri": "https://localhost:8080/"
        },
        "outputId": "9f61be21-8f50-4b28-ae7e-5490cfb57932"
      },
      "execution_count": 51,
      "outputs": [
        {
          "output_type": "stream",
          "name": "stdout",
          "text": [
            "users\n",
            "That table is uploaded users tables count=1\n"
          ]
        }
      ]
    },
    {
      "cell_type": "code",
      "source": [
        "for item in pk_tbl_dataframe.to_dict()[\"REFERENCED_TABLE_NAME\"].values():\n",
        "    try:\n",
        "        if not item.startswith(\"telescope\") and check_pg_count(item) == 0 and item not in skip_tables:\n",
        "            print(f\"Starting That table is {item}\")\n",
        "            for chunk_dataframe in pd.read_sql(f\"SELECT * FROM {item}\", mysql_con, chunksize=10000):\n",
        "              chunk_dataframe.to_sql(con=pq_con, name=item, schema=\"public\", if_exists='append',index=False, method=\"multi\")\n",
        "            #result_dataframe = pd.read_sql(f\"SELECT * FROM {item}\", mysql_con)\n",
        "            #result_dataframe.to_sql(con=pq_con, name=item, schema=\"public\", if_exists='append',index=False, method=\"multi\")\n",
        "              print(f\"That table is uploaded {item} tables count={len(chunk_dataframe.index)}\")\n",
        "        else:\n",
        "            print(f\"That table is not empty skipted {item}\")\n",
        "    except Error as e:\n",
        "        print(f\"Loading Has Failed on table{item}... {e}\")\n"
      ],
      "metadata": {
        "colab": {
          "base_uri": "https://localhost:8080/"
        },
        "id": "zU4VHbIdKJRM",
        "outputId": "9fb0bcc2-83ea-453f-9223-26b5f29c800f"
      },
      "execution_count": null,
      "outputs": [
        {
          "output_type": "stream",
          "name": "stdout",
          "text": [
            "That table is not empty skipted insurance_types\n",
            "That table is not empty skipted insurance_web_products\n",
            "That table is not empty skipted telescope_entries\n",
            "That table is not empty skipted regions\n",
            "That table is not empty skipted users\n",
            "That table is not empty skipted insurance_products\n",
            "That table is not empty skipted bonuses\n",
            "That table is not empty skipted travel_programs\n",
            "That table is not empty skipted main_page_banners\n",
            "That table is not empty skipted ip_regions\n",
            "That table is not empty skipted permissions\n",
            "That table is not empty skipted policy_drafts\n",
            "That table is not empty skipted stories\n",
            "That table is not empty skipted roles\n"
          ]
        }
      ]
    },
    {
      "cell_type": "code",
      "source": [
        "print(f\"Starting OTHER_TABLE_NAME\")\n",
        "for item in all_tbl_dataframe.to_dict()[\"TABLE_NAME\"].values():\n",
        "    try:\n",
        "        if not item.startswith(\"telescope\") and check_pg_count(item) == 0 and item not in skip_tables:\n",
        "            print(f\"That table started {item}\")\n",
        "            for chunk_dataframe in pd.read_sql(f\"SELECT * FROM {item}\", mysql_con, chunksize=15000):\n",
        "                chunk_dataframe.to_sql(con=pq_con, name=item, schema=\"public\", if_exists='append',index=False, method=\"multi\")\n",
        "                print(f\"That table is uploaded {item} tables count={len(chunk_dataframe.index)}\")\n",
        "        else:\n",
        "            print(f\"That table is not empty skipted {item}\")\n",
        "    except Error as e:\n",
        "        print(f\"Loading Has Failed on table{item}... {e}\")\n",
        "\n",
        "print(\"Migration Done\")"
      ],
      "metadata": {
        "colab": {
          "base_uri": "https://localhost:8080/",
          "height": 1000
        },
        "id": "UE8ABzuFEIVH",
        "outputId": "8416a6a6-b5a6-47b1-ef05-3e3b8e38ec41"
      },
      "execution_count": 52,
      "outputs": [
        {
          "output_type": "stream",
          "name": "stdout",
          "text": [
            "Starting OTHER_TABLE_NAME\n",
            "That table started activations\n",
            "That table is uploaded activations tables count=0\n",
            "That table started admin_activations\n",
            "That table is uploaded admin_activations tables count=0\n",
            "That table started admin_password_resets\n",
            "That table is uploaded admin_password_resets tables count=0\n",
            "That table is not empty skipted admin_users\n",
            "That table is not empty skipted banners_regions\n",
            "That table is not empty skipted bonuses\n",
            "That table is not empty skipted bonus_insurance_product\n",
            "That table started bots\n",
            "That table is uploaded bots tables count=0\n",
            "That table is not empty skipted branches\n",
            "That table is not empty skipted chatbot_flows\n",
            "That table is not empty skipted db_notifications\n",
            "That table is not empty skipted error_logs\n",
            "That table started failed_jobs\n",
            "That table is uploaded failed_jobs tables count=0\n",
            "That table is not empty skipted faqs\n",
            "That table is not empty skipted feedback\n",
            "That table is not empty skipted insurance_accidents\n",
            "That table is not empty skipted insurance_cases\n",
            "That table is not empty skipted insurance_products\n",
            "That table is not empty skipted insurance_types\n",
            "That table is not empty skipted insurance_web_products\n",
            "That table started insurance_web_products_links\n",
            "That table is uploaded insurance_web_products_links tables count=0\n",
            "That table started insurance_web_product_steps\n",
            "That table is uploaded insurance_web_product_steps tables count=0\n",
            "That table is not empty skipted insurance_web_questions\n",
            "That table is not empty skipted insurance_web_quotes\n",
            "That table is not empty skipted insurance_web_tariffs\n",
            "That table started invoices\n"
          ]
        },
        {
          "output_type": "error",
          "ename": "IntegrityError",
          "evalue": "ignored",
          "traceback": [
            "\u001b[0;31m---------------------------------------------------------------------------\u001b[0m",
            "\u001b[0;31mForeignKeyViolation\u001b[0m                       Traceback (most recent call last)",
            "\u001b[0;32m/usr/local/lib/python3.8/dist-packages/sqlalchemy/engine/base.py\u001b[0m in \u001b[0;36m_execute_context\u001b[0;34m(self, dialect, constructor, statement, parameters, execution_options, *args, **kw)\u001b[0m\n\u001b[1;32m   1899\u001b[0m                 \u001b[0;32mif\u001b[0m \u001b[0;32mnot\u001b[0m \u001b[0mevt_handled\u001b[0m\u001b[0;34m:\u001b[0m\u001b[0;34m\u001b[0m\u001b[0;34m\u001b[0m\u001b[0m\n\u001b[0;32m-> 1900\u001b[0;31m                     self.dialect.do_execute(\n\u001b[0m\u001b[1;32m   1901\u001b[0m                         \u001b[0mcursor\u001b[0m\u001b[0;34m,\u001b[0m \u001b[0mstatement\u001b[0m\u001b[0;34m,\u001b[0m \u001b[0mparameters\u001b[0m\u001b[0;34m,\u001b[0m \u001b[0mcontext\u001b[0m\u001b[0;34m\u001b[0m\u001b[0;34m\u001b[0m\u001b[0m\n",
            "\u001b[0;32m/usr/local/lib/python3.8/dist-packages/sqlalchemy/engine/default.py\u001b[0m in \u001b[0;36mdo_execute\u001b[0;34m(self, cursor, statement, parameters, context)\u001b[0m\n\u001b[1;32m    735\u001b[0m     \u001b[0;32mdef\u001b[0m \u001b[0mdo_execute\u001b[0m\u001b[0;34m(\u001b[0m\u001b[0mself\u001b[0m\u001b[0;34m,\u001b[0m \u001b[0mcursor\u001b[0m\u001b[0;34m,\u001b[0m \u001b[0mstatement\u001b[0m\u001b[0;34m,\u001b[0m \u001b[0mparameters\u001b[0m\u001b[0;34m,\u001b[0m \u001b[0mcontext\u001b[0m\u001b[0;34m=\u001b[0m\u001b[0;32mNone\u001b[0m\u001b[0;34m)\u001b[0m\u001b[0;34m:\u001b[0m\u001b[0;34m\u001b[0m\u001b[0;34m\u001b[0m\u001b[0m\n\u001b[0;32m--> 736\u001b[0;31m         \u001b[0mcursor\u001b[0m\u001b[0;34m.\u001b[0m\u001b[0mexecute\u001b[0m\u001b[0;34m(\u001b[0m\u001b[0mstatement\u001b[0m\u001b[0;34m,\u001b[0m \u001b[0mparameters\u001b[0m\u001b[0;34m)\u001b[0m\u001b[0;34m\u001b[0m\u001b[0;34m\u001b[0m\u001b[0m\n\u001b[0m\u001b[1;32m    737\u001b[0m \u001b[0;34m\u001b[0m\u001b[0m\n",
            "\u001b[0;31mForeignKeyViolation\u001b[0m: insert or update on table \"invoices\" violates foreign key constraint \"invoices_user_id_foreign\"\nDETAIL:  Key (user_id)=(1435967) is not present in table \"users\".\n",
            "\nThe above exception was the direct cause of the following exception:\n",
            "\u001b[0;31mIntegrityError\u001b[0m                            Traceback (most recent call last)",
            "\u001b[0;32m<ipython-input-52-57c5fd426c56>\u001b[0m in \u001b[0;36m<module>\u001b[0;34m\u001b[0m\n\u001b[1;32m      5\u001b[0m             \u001b[0mprint\u001b[0m\u001b[0;34m(\u001b[0m\u001b[0;34mf\"That table started {item}\"\u001b[0m\u001b[0;34m)\u001b[0m\u001b[0;34m\u001b[0m\u001b[0;34m\u001b[0m\u001b[0m\n\u001b[1;32m      6\u001b[0m             \u001b[0;32mfor\u001b[0m \u001b[0mchunk_dataframe\u001b[0m \u001b[0;32min\u001b[0m \u001b[0mpd\u001b[0m\u001b[0;34m.\u001b[0m\u001b[0mread_sql\u001b[0m\u001b[0;34m(\u001b[0m\u001b[0;34mf\"SELECT * FROM {item}\"\u001b[0m\u001b[0;34m,\u001b[0m \u001b[0mmysql_con\u001b[0m\u001b[0;34m,\u001b[0m \u001b[0mchunksize\u001b[0m\u001b[0;34m=\u001b[0m\u001b[0;36m15000\u001b[0m\u001b[0;34m)\u001b[0m\u001b[0;34m:\u001b[0m\u001b[0;34m\u001b[0m\u001b[0;34m\u001b[0m\u001b[0m\n\u001b[0;32m----> 7\u001b[0;31m                 \u001b[0mchunk_dataframe\u001b[0m\u001b[0;34m.\u001b[0m\u001b[0mto_sql\u001b[0m\u001b[0;34m(\u001b[0m\u001b[0mcon\u001b[0m\u001b[0;34m=\u001b[0m\u001b[0mpq_con\u001b[0m\u001b[0;34m,\u001b[0m \u001b[0mname\u001b[0m\u001b[0;34m=\u001b[0m\u001b[0mitem\u001b[0m\u001b[0;34m,\u001b[0m \u001b[0mschema\u001b[0m\u001b[0;34m=\u001b[0m\u001b[0;34m\"public\"\u001b[0m\u001b[0;34m,\u001b[0m \u001b[0mif_exists\u001b[0m\u001b[0;34m=\u001b[0m\u001b[0;34m'append'\u001b[0m\u001b[0;34m,\u001b[0m\u001b[0mindex\u001b[0m\u001b[0;34m=\u001b[0m\u001b[0;32mFalse\u001b[0m\u001b[0;34m,\u001b[0m \u001b[0mmethod\u001b[0m\u001b[0;34m=\u001b[0m\u001b[0;34m\"multi\"\u001b[0m\u001b[0;34m)\u001b[0m\u001b[0;34m\u001b[0m\u001b[0;34m\u001b[0m\u001b[0m\n\u001b[0m\u001b[1;32m      8\u001b[0m                 \u001b[0mprint\u001b[0m\u001b[0;34m(\u001b[0m\u001b[0;34mf\"That table is uploaded {item} tables count={len(chunk_dataframe.index)}\"\u001b[0m\u001b[0;34m)\u001b[0m\u001b[0;34m\u001b[0m\u001b[0;34m\u001b[0m\u001b[0m\n\u001b[1;32m      9\u001b[0m         \u001b[0;32melse\u001b[0m\u001b[0;34m:\u001b[0m\u001b[0;34m\u001b[0m\u001b[0;34m\u001b[0m\u001b[0m\n",
            "\u001b[0;32m/usr/local/lib/python3.8/dist-packages/pandas/core/generic.py\u001b[0m in \u001b[0;36mto_sql\u001b[0;34m(self, name, con, schema, if_exists, index, index_label, chunksize, dtype, method)\u001b[0m\n\u001b[1;32m   2870\u001b[0m         \u001b[0;32mfrom\u001b[0m \u001b[0mpandas\u001b[0m\u001b[0;34m.\u001b[0m\u001b[0mio\u001b[0m \u001b[0;32mimport\u001b[0m \u001b[0msql\u001b[0m\u001b[0;34m\u001b[0m\u001b[0;34m\u001b[0m\u001b[0m\n\u001b[1;32m   2871\u001b[0m \u001b[0;34m\u001b[0m\u001b[0m\n\u001b[0;32m-> 2872\u001b[0;31m         sql.to_sql(\n\u001b[0m\u001b[1;32m   2873\u001b[0m             \u001b[0mself\u001b[0m\u001b[0;34m,\u001b[0m\u001b[0;34m\u001b[0m\u001b[0;34m\u001b[0m\u001b[0m\n\u001b[1;32m   2874\u001b[0m             \u001b[0mname\u001b[0m\u001b[0;34m,\u001b[0m\u001b[0;34m\u001b[0m\u001b[0;34m\u001b[0m\u001b[0m\n",
            "\u001b[0;32m/usr/local/lib/python3.8/dist-packages/pandas/io/sql.py\u001b[0m in \u001b[0;36mto_sql\u001b[0;34m(frame, name, con, schema, if_exists, index, index_label, chunksize, dtype, method, engine, **engine_kwargs)\u001b[0m\n\u001b[1;32m    715\u001b[0m         )\n\u001b[1;32m    716\u001b[0m \u001b[0;34m\u001b[0m\u001b[0m\n\u001b[0;32m--> 717\u001b[0;31m     pandas_sql.to_sql(\n\u001b[0m\u001b[1;32m    718\u001b[0m         \u001b[0mframe\u001b[0m\u001b[0;34m,\u001b[0m\u001b[0;34m\u001b[0m\u001b[0;34m\u001b[0m\u001b[0m\n\u001b[1;32m    719\u001b[0m         \u001b[0mname\u001b[0m\u001b[0;34m,\u001b[0m\u001b[0;34m\u001b[0m\u001b[0;34m\u001b[0m\u001b[0m\n",
            "\u001b[0;32m/usr/local/lib/python3.8/dist-packages/pandas/io/sql.py\u001b[0m in \u001b[0;36mto_sql\u001b[0;34m(self, frame, name, if_exists, index, index_label, schema, chunksize, dtype, method, engine, **engine_kwargs)\u001b[0m\n\u001b[1;32m   1759\u001b[0m         )\n\u001b[1;32m   1760\u001b[0m \u001b[0;34m\u001b[0m\u001b[0m\n\u001b[0;32m-> 1761\u001b[0;31m         sql_engine.insert_records(\n\u001b[0m\u001b[1;32m   1762\u001b[0m             \u001b[0mtable\u001b[0m\u001b[0;34m=\u001b[0m\u001b[0mtable\u001b[0m\u001b[0;34m,\u001b[0m\u001b[0;34m\u001b[0m\u001b[0;34m\u001b[0m\u001b[0m\n\u001b[1;32m   1763\u001b[0m             \u001b[0mcon\u001b[0m\u001b[0;34m=\u001b[0m\u001b[0mself\u001b[0m\u001b[0;34m.\u001b[0m\u001b[0mconnectable\u001b[0m\u001b[0;34m,\u001b[0m\u001b[0;34m\u001b[0m\u001b[0;34m\u001b[0m\u001b[0m\n",
            "\u001b[0;32m/usr/local/lib/python3.8/dist-packages/pandas/io/sql.py\u001b[0m in \u001b[0;36minsert_records\u001b[0;34m(self, table, con, frame, name, index, schema, chunksize, method, **engine_kwargs)\u001b[0m\n\u001b[1;32m   1348\u001b[0m                 \u001b[0;32mraise\u001b[0m \u001b[0mValueError\u001b[0m\u001b[0;34m(\u001b[0m\u001b[0;34m\"inf cannot be used with MySQL\"\u001b[0m\u001b[0;34m)\u001b[0m \u001b[0;32mfrom\u001b[0m \u001b[0merr\u001b[0m\u001b[0;34m\u001b[0m\u001b[0;34m\u001b[0m\u001b[0m\n\u001b[1;32m   1349\u001b[0m             \u001b[0;32melse\u001b[0m\u001b[0;34m:\u001b[0m\u001b[0;34m\u001b[0m\u001b[0;34m\u001b[0m\u001b[0m\n\u001b[0;32m-> 1350\u001b[0;31m                 \u001b[0;32mraise\u001b[0m \u001b[0merr\u001b[0m\u001b[0;34m\u001b[0m\u001b[0;34m\u001b[0m\u001b[0m\n\u001b[0m\u001b[1;32m   1351\u001b[0m \u001b[0;34m\u001b[0m\u001b[0m\n\u001b[1;32m   1352\u001b[0m \u001b[0;34m\u001b[0m\u001b[0m\n",
            "\u001b[0;32m/usr/local/lib/python3.8/dist-packages/pandas/io/sql.py\u001b[0m in \u001b[0;36minsert_records\u001b[0;34m(self, table, con, frame, name, index, schema, chunksize, method, **engine_kwargs)\u001b[0m\n\u001b[1;32m   1338\u001b[0m \u001b[0;34m\u001b[0m\u001b[0m\n\u001b[1;32m   1339\u001b[0m         \u001b[0;32mtry\u001b[0m\u001b[0;34m:\u001b[0m\u001b[0;34m\u001b[0m\u001b[0;34m\u001b[0m\u001b[0m\n\u001b[0;32m-> 1340\u001b[0;31m             \u001b[0mtable\u001b[0m\u001b[0;34m.\u001b[0m\u001b[0minsert\u001b[0m\u001b[0;34m(\u001b[0m\u001b[0mchunksize\u001b[0m\u001b[0;34m=\u001b[0m\u001b[0mchunksize\u001b[0m\u001b[0;34m,\u001b[0m \u001b[0mmethod\u001b[0m\u001b[0;34m=\u001b[0m\u001b[0mmethod\u001b[0m\u001b[0;34m)\u001b[0m\u001b[0;34m\u001b[0m\u001b[0;34m\u001b[0m\u001b[0m\n\u001b[0m\u001b[1;32m   1341\u001b[0m         \u001b[0;32mexcept\u001b[0m \u001b[0mexc\u001b[0m\u001b[0;34m.\u001b[0m\u001b[0mSQLAlchemyError\u001b[0m \u001b[0;32mas\u001b[0m \u001b[0merr\u001b[0m\u001b[0;34m:\u001b[0m\u001b[0;34m\u001b[0m\u001b[0;34m\u001b[0m\u001b[0m\n\u001b[1;32m   1342\u001b[0m             \u001b[0;31m# GH34431\u001b[0m\u001b[0;34m\u001b[0m\u001b[0;34m\u001b[0m\u001b[0;34m\u001b[0m\u001b[0m\n",
            "\u001b[0;32m/usr/local/lib/python3.8/dist-packages/pandas/io/sql.py\u001b[0m in \u001b[0;36minsert\u001b[0;34m(self, chunksize, method)\u001b[0m\n\u001b[1;32m    965\u001b[0m \u001b[0;34m\u001b[0m\u001b[0m\n\u001b[1;32m    966\u001b[0m                 \u001b[0mchunk_iter\u001b[0m \u001b[0;34m=\u001b[0m \u001b[0mzip\u001b[0m\u001b[0;34m(\u001b[0m\u001b[0;34m*\u001b[0m\u001b[0;34m[\u001b[0m\u001b[0marr\u001b[0m\u001b[0;34m[\u001b[0m\u001b[0mstart_i\u001b[0m\u001b[0;34m:\u001b[0m\u001b[0mend_i\u001b[0m\u001b[0;34m]\u001b[0m \u001b[0;32mfor\u001b[0m \u001b[0marr\u001b[0m \u001b[0;32min\u001b[0m \u001b[0mdata_list\u001b[0m\u001b[0;34m]\u001b[0m\u001b[0;34m)\u001b[0m\u001b[0;34m\u001b[0m\u001b[0;34m\u001b[0m\u001b[0m\n\u001b[0;32m--> 967\u001b[0;31m                 \u001b[0mexec_insert\u001b[0m\u001b[0;34m(\u001b[0m\u001b[0mconn\u001b[0m\u001b[0;34m,\u001b[0m \u001b[0mkeys\u001b[0m\u001b[0;34m,\u001b[0m \u001b[0mchunk_iter\u001b[0m\u001b[0;34m)\u001b[0m\u001b[0;34m\u001b[0m\u001b[0;34m\u001b[0m\u001b[0m\n\u001b[0m\u001b[1;32m    968\u001b[0m \u001b[0;34m\u001b[0m\u001b[0m\n\u001b[1;32m    969\u001b[0m     def _query_iterator(\n",
            "\u001b[0;32m/usr/local/lib/python3.8/dist-packages/pandas/io/sql.py\u001b[0m in \u001b[0;36m_execute_insert_multi\u001b[0;34m(self, conn, keys, data_iter)\u001b[0m\n\u001b[1;32m    891\u001b[0m         \"\"\"\n\u001b[1;32m    892\u001b[0m         \u001b[0mdata\u001b[0m \u001b[0;34m=\u001b[0m \u001b[0;34m[\u001b[0m\u001b[0mdict\u001b[0m\u001b[0;34m(\u001b[0m\u001b[0mzip\u001b[0m\u001b[0;34m(\u001b[0m\u001b[0mkeys\u001b[0m\u001b[0;34m,\u001b[0m \u001b[0mrow\u001b[0m\u001b[0;34m)\u001b[0m\u001b[0;34m)\u001b[0m \u001b[0;32mfor\u001b[0m \u001b[0mrow\u001b[0m \u001b[0;32min\u001b[0m \u001b[0mdata_iter\u001b[0m\u001b[0;34m]\u001b[0m\u001b[0;34m\u001b[0m\u001b[0;34m\u001b[0m\u001b[0m\n\u001b[0;32m--> 893\u001b[0;31m         \u001b[0mconn\u001b[0m\u001b[0;34m.\u001b[0m\u001b[0mexecute\u001b[0m\u001b[0;34m(\u001b[0m\u001b[0mself\u001b[0m\u001b[0;34m.\u001b[0m\u001b[0mtable\u001b[0m\u001b[0;34m.\u001b[0m\u001b[0minsert\u001b[0m\u001b[0;34m(\u001b[0m\u001b[0mdata\u001b[0m\u001b[0;34m)\u001b[0m\u001b[0;34m)\u001b[0m\u001b[0;34m\u001b[0m\u001b[0;34m\u001b[0m\u001b[0m\n\u001b[0m\u001b[1;32m    894\u001b[0m \u001b[0;34m\u001b[0m\u001b[0m\n\u001b[1;32m    895\u001b[0m     \u001b[0;32mdef\u001b[0m \u001b[0minsert_data\u001b[0m\u001b[0;34m(\u001b[0m\u001b[0mself\u001b[0m\u001b[0;34m)\u001b[0m\u001b[0;34m:\u001b[0m\u001b[0;34m\u001b[0m\u001b[0;34m\u001b[0m\u001b[0m\n",
            "\u001b[0;32m/usr/local/lib/python3.8/dist-packages/sqlalchemy/engine/base.py\u001b[0m in \u001b[0;36mexecute\u001b[0;34m(self, statement, *multiparams, **params)\u001b[0m\n\u001b[1;32m   1378\u001b[0m             )\n\u001b[1;32m   1379\u001b[0m         \u001b[0;32melse\u001b[0m\u001b[0;34m:\u001b[0m\u001b[0;34m\u001b[0m\u001b[0;34m\u001b[0m\u001b[0m\n\u001b[0;32m-> 1380\u001b[0;31m             \u001b[0;32mreturn\u001b[0m \u001b[0mmeth\u001b[0m\u001b[0;34m(\u001b[0m\u001b[0mself\u001b[0m\u001b[0;34m,\u001b[0m \u001b[0mmultiparams\u001b[0m\u001b[0;34m,\u001b[0m \u001b[0mparams\u001b[0m\u001b[0;34m,\u001b[0m \u001b[0m_EMPTY_EXECUTION_OPTS\u001b[0m\u001b[0;34m)\u001b[0m\u001b[0;34m\u001b[0m\u001b[0;34m\u001b[0m\u001b[0m\n\u001b[0m\u001b[1;32m   1381\u001b[0m \u001b[0;34m\u001b[0m\u001b[0m\n\u001b[1;32m   1382\u001b[0m     \u001b[0;32mdef\u001b[0m \u001b[0m_execute_function\u001b[0m\u001b[0;34m(\u001b[0m\u001b[0mself\u001b[0m\u001b[0;34m,\u001b[0m \u001b[0mfunc\u001b[0m\u001b[0;34m,\u001b[0m \u001b[0mmultiparams\u001b[0m\u001b[0;34m,\u001b[0m \u001b[0mparams\u001b[0m\u001b[0;34m,\u001b[0m \u001b[0mexecution_options\u001b[0m\u001b[0;34m)\u001b[0m\u001b[0;34m:\u001b[0m\u001b[0;34m\u001b[0m\u001b[0;34m\u001b[0m\u001b[0m\n",
            "\u001b[0;32m/usr/local/lib/python3.8/dist-packages/sqlalchemy/sql/elements.py\u001b[0m in \u001b[0;36m_execute_on_connection\u001b[0;34m(self, connection, multiparams, params, execution_options, _force)\u001b[0m\n\u001b[1;32m    332\u001b[0m     ):\n\u001b[1;32m    333\u001b[0m         \u001b[0;32mif\u001b[0m \u001b[0m_force\u001b[0m \u001b[0;32mor\u001b[0m \u001b[0mself\u001b[0m\u001b[0;34m.\u001b[0m\u001b[0msupports_execution\u001b[0m\u001b[0;34m:\u001b[0m\u001b[0;34m\u001b[0m\u001b[0;34m\u001b[0m\u001b[0m\n\u001b[0;32m--> 334\u001b[0;31m             return connection._execute_clauseelement(\n\u001b[0m\u001b[1;32m    335\u001b[0m                 \u001b[0mself\u001b[0m\u001b[0;34m,\u001b[0m \u001b[0mmultiparams\u001b[0m\u001b[0;34m,\u001b[0m \u001b[0mparams\u001b[0m\u001b[0;34m,\u001b[0m \u001b[0mexecution_options\u001b[0m\u001b[0;34m\u001b[0m\u001b[0;34m\u001b[0m\u001b[0m\n\u001b[1;32m    336\u001b[0m             )\n",
            "\u001b[0;32m/usr/local/lib/python3.8/dist-packages/sqlalchemy/engine/base.py\u001b[0m in \u001b[0;36m_execute_clauseelement\u001b[0;34m(self, elem, multiparams, params, execution_options)\u001b[0m\n\u001b[1;32m   1570\u001b[0m             \u001b[0mlinting\u001b[0m\u001b[0;34m=\u001b[0m\u001b[0mself\u001b[0m\u001b[0;34m.\u001b[0m\u001b[0mdialect\u001b[0m\u001b[0;34m.\u001b[0m\u001b[0mcompiler_linting\u001b[0m \u001b[0;34m|\u001b[0m \u001b[0mcompiler\u001b[0m\u001b[0;34m.\u001b[0m\u001b[0mWARN_LINTING\u001b[0m\u001b[0;34m,\u001b[0m\u001b[0;34m\u001b[0m\u001b[0;34m\u001b[0m\u001b[0m\n\u001b[1;32m   1571\u001b[0m         )\n\u001b[0;32m-> 1572\u001b[0;31m         ret = self._execute_context(\n\u001b[0m\u001b[1;32m   1573\u001b[0m             \u001b[0mdialect\u001b[0m\u001b[0;34m,\u001b[0m\u001b[0;34m\u001b[0m\u001b[0;34m\u001b[0m\u001b[0m\n\u001b[1;32m   1574\u001b[0m             \u001b[0mdialect\u001b[0m\u001b[0;34m.\u001b[0m\u001b[0mexecution_ctx_cls\u001b[0m\u001b[0;34m.\u001b[0m\u001b[0m_init_compiled\u001b[0m\u001b[0;34m,\u001b[0m\u001b[0;34m\u001b[0m\u001b[0;34m\u001b[0m\u001b[0m\n",
            "\u001b[0;32m/usr/local/lib/python3.8/dist-packages/sqlalchemy/engine/base.py\u001b[0m in \u001b[0;36m_execute_context\u001b[0;34m(self, dialect, constructor, statement, parameters, execution_options, *args, **kw)\u001b[0m\n\u001b[1;32m   1941\u001b[0m \u001b[0;34m\u001b[0m\u001b[0m\n\u001b[1;32m   1942\u001b[0m         \u001b[0;32mexcept\u001b[0m \u001b[0mBaseException\u001b[0m \u001b[0;32mas\u001b[0m \u001b[0me\u001b[0m\u001b[0;34m:\u001b[0m\u001b[0;34m\u001b[0m\u001b[0;34m\u001b[0m\u001b[0m\n\u001b[0;32m-> 1943\u001b[0;31m             self._handle_dbapi_exception(\n\u001b[0m\u001b[1;32m   1944\u001b[0m                 \u001b[0me\u001b[0m\u001b[0;34m,\u001b[0m \u001b[0mstatement\u001b[0m\u001b[0;34m,\u001b[0m \u001b[0mparameters\u001b[0m\u001b[0;34m,\u001b[0m \u001b[0mcursor\u001b[0m\u001b[0;34m,\u001b[0m \u001b[0mcontext\u001b[0m\u001b[0;34m\u001b[0m\u001b[0;34m\u001b[0m\u001b[0m\n\u001b[1;32m   1945\u001b[0m             )\n",
            "\u001b[0;32m/usr/local/lib/python3.8/dist-packages/sqlalchemy/engine/base.py\u001b[0m in \u001b[0;36m_handle_dbapi_exception\u001b[0;34m(self, e, statement, parameters, cursor, context)\u001b[0m\n\u001b[1;32m   2122\u001b[0m                 \u001b[0mutil\u001b[0m\u001b[0;34m.\u001b[0m\u001b[0mraise_\u001b[0m\u001b[0;34m(\u001b[0m\u001b[0mnewraise\u001b[0m\u001b[0;34m,\u001b[0m \u001b[0mwith_traceback\u001b[0m\u001b[0;34m=\u001b[0m\u001b[0mexc_info\u001b[0m\u001b[0;34m[\u001b[0m\u001b[0;36m2\u001b[0m\u001b[0;34m]\u001b[0m\u001b[0;34m,\u001b[0m \u001b[0mfrom_\u001b[0m\u001b[0;34m=\u001b[0m\u001b[0me\u001b[0m\u001b[0;34m)\u001b[0m\u001b[0;34m\u001b[0m\u001b[0;34m\u001b[0m\u001b[0m\n\u001b[1;32m   2123\u001b[0m             \u001b[0;32melif\u001b[0m \u001b[0mshould_wrap\u001b[0m\u001b[0;34m:\u001b[0m\u001b[0;34m\u001b[0m\u001b[0;34m\u001b[0m\u001b[0m\n\u001b[0;32m-> 2124\u001b[0;31m                 util.raise_(\n\u001b[0m\u001b[1;32m   2125\u001b[0m                     \u001b[0msqlalchemy_exception\u001b[0m\u001b[0;34m,\u001b[0m \u001b[0mwith_traceback\u001b[0m\u001b[0;34m=\u001b[0m\u001b[0mexc_info\u001b[0m\u001b[0;34m[\u001b[0m\u001b[0;36m2\u001b[0m\u001b[0;34m]\u001b[0m\u001b[0;34m,\u001b[0m \u001b[0mfrom_\u001b[0m\u001b[0;34m=\u001b[0m\u001b[0me\u001b[0m\u001b[0;34m\u001b[0m\u001b[0;34m\u001b[0m\u001b[0m\n\u001b[1;32m   2126\u001b[0m                 )\n",
            "\u001b[0;32m/usr/local/lib/python3.8/dist-packages/sqlalchemy/util/compat.py\u001b[0m in \u001b[0;36mraise_\u001b[0;34m(***failed resolving arguments***)\u001b[0m\n\u001b[1;32m    209\u001b[0m \u001b[0;34m\u001b[0m\u001b[0m\n\u001b[1;32m    210\u001b[0m         \u001b[0;32mtry\u001b[0m\u001b[0;34m:\u001b[0m\u001b[0;34m\u001b[0m\u001b[0;34m\u001b[0m\u001b[0m\n\u001b[0;32m--> 211\u001b[0;31m             \u001b[0;32mraise\u001b[0m \u001b[0mexception\u001b[0m\u001b[0;34m\u001b[0m\u001b[0;34m\u001b[0m\u001b[0m\n\u001b[0m\u001b[1;32m    212\u001b[0m         \u001b[0;32mfinally\u001b[0m\u001b[0;34m:\u001b[0m\u001b[0;34m\u001b[0m\u001b[0;34m\u001b[0m\u001b[0m\n\u001b[1;32m    213\u001b[0m             \u001b[0;31m# credit to\u001b[0m\u001b[0;34m\u001b[0m\u001b[0;34m\u001b[0m\u001b[0;34m\u001b[0m\u001b[0m\n",
            "\u001b[0;32m/usr/local/lib/python3.8/dist-packages/sqlalchemy/engine/base.py\u001b[0m in \u001b[0;36m_execute_context\u001b[0;34m(self, dialect, constructor, statement, parameters, execution_options, *args, **kw)\u001b[0m\n\u001b[1;32m   1898\u001b[0m                             \u001b[0;32mbreak\u001b[0m\u001b[0;34m\u001b[0m\u001b[0;34m\u001b[0m\u001b[0m\n\u001b[1;32m   1899\u001b[0m                 \u001b[0;32mif\u001b[0m \u001b[0;32mnot\u001b[0m \u001b[0mevt_handled\u001b[0m\u001b[0;34m:\u001b[0m\u001b[0;34m\u001b[0m\u001b[0;34m\u001b[0m\u001b[0m\n\u001b[0;32m-> 1900\u001b[0;31m                     self.dialect.do_execute(\n\u001b[0m\u001b[1;32m   1901\u001b[0m                         \u001b[0mcursor\u001b[0m\u001b[0;34m,\u001b[0m \u001b[0mstatement\u001b[0m\u001b[0;34m,\u001b[0m \u001b[0mparameters\u001b[0m\u001b[0;34m,\u001b[0m \u001b[0mcontext\u001b[0m\u001b[0;34m\u001b[0m\u001b[0;34m\u001b[0m\u001b[0m\n\u001b[1;32m   1902\u001b[0m                     )\n",
            "\u001b[0;32m/usr/local/lib/python3.8/dist-packages/sqlalchemy/engine/default.py\u001b[0m in \u001b[0;36mdo_execute\u001b[0;34m(self, cursor, statement, parameters, context)\u001b[0m\n\u001b[1;32m    734\u001b[0m \u001b[0;34m\u001b[0m\u001b[0m\n\u001b[1;32m    735\u001b[0m     \u001b[0;32mdef\u001b[0m \u001b[0mdo_execute\u001b[0m\u001b[0;34m(\u001b[0m\u001b[0mself\u001b[0m\u001b[0;34m,\u001b[0m \u001b[0mcursor\u001b[0m\u001b[0;34m,\u001b[0m \u001b[0mstatement\u001b[0m\u001b[0;34m,\u001b[0m \u001b[0mparameters\u001b[0m\u001b[0;34m,\u001b[0m \u001b[0mcontext\u001b[0m\u001b[0;34m=\u001b[0m\u001b[0;32mNone\u001b[0m\u001b[0;34m)\u001b[0m\u001b[0;34m:\u001b[0m\u001b[0;34m\u001b[0m\u001b[0;34m\u001b[0m\u001b[0m\n\u001b[0;32m--> 736\u001b[0;31m         \u001b[0mcursor\u001b[0m\u001b[0;34m.\u001b[0m\u001b[0mexecute\u001b[0m\u001b[0;34m(\u001b[0m\u001b[0mstatement\u001b[0m\u001b[0;34m,\u001b[0m \u001b[0mparameters\u001b[0m\u001b[0;34m)\u001b[0m\u001b[0;34m\u001b[0m\u001b[0;34m\u001b[0m\u001b[0m\n\u001b[0m\u001b[1;32m    737\u001b[0m \u001b[0;34m\u001b[0m\u001b[0m\n\u001b[1;32m    738\u001b[0m     \u001b[0;32mdef\u001b[0m \u001b[0mdo_execute_no_params\u001b[0m\u001b[0;34m(\u001b[0m\u001b[0mself\u001b[0m\u001b[0;34m,\u001b[0m \u001b[0mcursor\u001b[0m\u001b[0;34m,\u001b[0m \u001b[0mstatement\u001b[0m\u001b[0;34m,\u001b[0m \u001b[0mcontext\u001b[0m\u001b[0;34m=\u001b[0m\u001b[0;32mNone\u001b[0m\u001b[0;34m)\u001b[0m\u001b[0;34m:\u001b[0m\u001b[0;34m\u001b[0m\u001b[0;34m\u001b[0m\u001b[0m\n",
            "\u001b[0;31mIntegrityError\u001b[0m: (psycopg2.errors.ForeignKeyViolation) insert or update on table \"invoices\" violates foreign key constraint \"invoices_user_id_foreign\"\nDETAIL:  Key (user_id)=(1435967) is not present in table \"users\".\n\n[SQL: INSERT INTO public.invoices (id, uniq_ref, policy_id, user_id, calculation_id, auth, amount, terminal, reference, card_mask, code, reason, reason_code, policy_state, policy_error_code, created_at, updated_at, is_subscription, subscription_tariff, is_card_change, post_linked) VALUES (%(id_m0)s, %(uniq_ref_m0)s, %(policy_id_m0)s, %(user_id_m0)s, %(calculation_id_m0)s, %(auth_m0)s, %(amount_m0)s, %(terminal_m0)s, %(reference_m0)s, %(card_mask_m0)s, %(code_m0)s, %(reason_m0)s, %(reason_code_m0)s, %(policy_state_m0)s, %(policy_error_code_m0)s, %(created_at_m0)s, %(updated_at_m0)s, %(is_subscription_m0)s, %(subscription_tariff_m0)s, %(is_card_change_m0)s, %(post_linked_m0)s), (%(id_m1)s, %(uniq_ref_m1)s, %(policy_id_m1)s, %(user_id_m1)s, %(calculation_id_m1)s, %(auth_m1)s, %(amount_m1)s, %(terminal_m1)s, %(reference_m1)s, %(card_mask_m1)s, %(code_m1)s, %(reason_m1)s, %(reason_code_m1)s, %(policy_state_m1)s, %(policy_error_code_m1)s, %(created_at_m1)s, %(updated_at_m1)s, %(is_subscription_m1)s, %(subscription_tariff_m1)s, %(is_card_change_m1)s, %(post_linked_m1)s), (%(id_m2)s, %(uniq_ref_m2)s, %(policy_id_m2)s, %(user_id_m2)s, %(calculation_id_m2)s, %(auth_m2)s, %(amount_m2)s, %(terminal_m2)s, %(reference_m2)s, %(card_mask_m2)s, %(code_m2)s, %(reason_m2)s, %(reason_code_m2)s, %(policy_state_m2)s, %(policy_error_code_m2)s, %(created_at_m2)s, %(updated_at_m2)s, %(is_subscription_m2)s, %(subscription_tariff_m2)s, %(is_card_change_m2)s, %(post_linked_m2)s), (%(id_m3)s, %(uniq_r...\n[parameters: {'id_m0': 1, 'uniq_ref_m0': None, 'policy_id_m0': 100012303788, 'user_id_m0': 40.0, 'calculation_id_m0': 'babf03d3-45c5-44c0-9f4e-2316b99d0ec4', 'auth_m0': '{\"access_token\":\"MYVWEJUBNMQRNXGLFOO0FA\",\"expires_in\":\"14400\",\"refresh_token\":\"\",\"scope\":\"payment\",\"token_type\":\"Bearer\"}', 'amount_m0': 6000.0, 'terminal_m0': '4366aa10-31c1-440a-a0df-70abe645e380', 'reference_m0': None, 'card_mask_m0': None, 'code_m0': None, 'reason_m0': None, 'reason_code_m0': None, 'policy_state_m0': -30, 'policy_error_code_m0': None, 'created_at_m0': datetime.datetime(2022, 2, 24, 15, 57, 35), 'updated_at_m0': datetime.datetime(2022, 4, 11, 3, 23, 29), 'is_subscription_m0': None, 'subscription_tariff_m0': None, 'is_card_change_m0': None, 'post_linked_m0': None, 'id_m1': 2, 'uniq_ref_m1': None, 'policy_id_m1': 100012309317, 'user_id_m1': 457.0, 'calculation_id_m1': 'c2f7e9db-00c8-4722-a299-5a592c9fd668', 'auth_m1': '{\"access_token\":\"T4DG1L59OG-NBV67ZLOWXG\",\"expires_in\":\"14400\",\"refresh_token\":\"\",\"scope\":\"payment\",\"token_type\":\"Bearer\"}', 'amount_m1': 6000.0, 'terminal_m1': '4366aa10-31c1-440a-a0df-70abe645e380', 'reference_m1': None, 'card_mask_m1': None, 'code_m1': None, 'reason_m1': None, 'reason_code_m1': None, 'policy_state_m1': 12, 'policy_error_code_m1': None, 'created_at_m1': datetime.datetime(2022, 2, 25, 17, 13, 44), 'updated_at_m1': datetime.datetime(2022, 4, 23, 22, 30, 38), 'is_subscription_m1': None, 'subscription_tariff_m1': None, 'is_card_change_m1': None, 'post_linked_m...\n(Background on this error at: https://sqlalche.me/e/14/gkpj)"
          ]
        }
      ]
    }
  ]
}